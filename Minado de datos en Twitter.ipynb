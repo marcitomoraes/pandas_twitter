{
 "cells": [
  {
   "cell_type": "markdown",
   "metadata": {
    "toc": "true"
   },
   "source": [
    "# Table of Contents\n",
    " <p><div class=\"lev1 toc-item\"><a href=\"#Minando-datos-de-Twitter-con-Pandas-+-Tweepy\" data-toc-modified-id=\"Minando-datos-de-Twitter-con-Pandas-+-Tweepy-1\"><span class=\"toc-item-num\">1&nbsp;&nbsp;</span><strong>Minando datos de Twitter con Pandas + Tweepy</strong></a></div><div class=\"lev2 toc-item\"><a href=\"#Importamos-nuestras-librerías\" data-toc-modified-id=\"Importamos-nuestras-librerías-11\"><span class=\"toc-item-num\">1.1&nbsp;&nbsp;</span>Importamos nuestras librerías</a></div><div class=\"lev2 toc-item\"><a href=\"#Creamos-una-App-de-Twitter\" data-toc-modified-id=\"Creamos-una-App-de-Twitter-12\"><span class=\"toc-item-num\">1.2&nbsp;&nbsp;</span>Creamos una App de Twitter</a></div><div class=\"lev2 toc-item\"><a href=\"#Extraemos-tweets\" data-toc-modified-id=\"Extraemos-tweets-13\"><span class=\"toc-item-num\">1.3&nbsp;&nbsp;</span>Extraemos tweets</a></div><div class=\"lev2 toc-item\"><a href=\"#Creamos-un-dataframe\" data-toc-modified-id=\"Creamos-un-dataframe-14\"><span class=\"toc-item-num\">1.4&nbsp;&nbsp;</span>Creamos un dataframe</a></div><div class=\"lev2 toc-item\"><a href=\"#Añadimos-información-relevante\" data-toc-modified-id=\"Añadimos-información-relevante-15\"><span class=\"toc-item-num\">1.5&nbsp;&nbsp;</span>Añadimos información relevante</a></div><div class=\"lev1 toc-item\"><a href=\"#Visualización-y-estadística-básica\" data-toc-modified-id=\"Visualización-y-estadística-básica-2\"><span class=\"toc-item-num\">2&nbsp;&nbsp;</span><strong>Visualización y estadística básica</strong></a></div><div class=\"lev2 toc-item\"><a href=\"#Promedios-y-popularidad\" data-toc-modified-id=\"Promedios-y-popularidad-21\"><span class=\"toc-item-num\">2.1&nbsp;&nbsp;</span>Promedios y popularidad</a></div><div class=\"lev2 toc-item\"><a href=\"#Series-de-tiempo\" data-toc-modified-id=\"Series-de-tiempo-22\"><span class=\"toc-item-num\">2.2&nbsp;&nbsp;</span>Series de tiempo</a></div><div class=\"lev2 toc-item\"><a href=\"#Pie-charts-de-dispositivos\" data-toc-modified-id=\"Pie-charts-de-dispositivos-23\"><span class=\"toc-item-num\">2.3&nbsp;&nbsp;</span>Pie charts de dispositivos</a></div><div class=\"lev1 toc-item\"><a href=\"#Análisis-de-sentimientos\" data-toc-modified-id=\"Análisis-de-sentimientos-3\"><span class=\"toc-item-num\">3&nbsp;&nbsp;</span><strong>Análisis de sentimientos</strong></a></div><div class=\"lev2 toc-item\"><a href=\"#Importando-textblob\" data-toc-modified-id=\"Importando-textblob-31\"><span class=\"toc-item-num\">3.1&nbsp;&nbsp;</span>Importando textblob</a></div><div class=\"lev2 toc-item\"><a href=\"#Analizando-sentimientos\" data-toc-modified-id=\"Analizando-sentimientos-32\"><span class=\"toc-item-num\">3.2&nbsp;&nbsp;</span>Analizando sentimientos</a></div><div class=\"lev2 toc-item\"><a href=\"#Analizando-resultados\" data-toc-modified-id=\"Analizando-resultados-33\"><span class=\"toc-item-num\">3.3&nbsp;&nbsp;</span>Analizando resultados</a></div><div class=\"lev1 toc-item\"><a href=\"#Referencias\" data-toc-modified-id=\"Referencias-4\"><span class=\"toc-item-num\">4&nbsp;&nbsp;</span>Referencias</a></div>"
   ]
  },
  {
   "cell_type": "markdown",
   "metadata": {
    "slideshow": {
     "slide_type": "slide"
    }
   },
   "source": [
    "# **Minando datos de Twitter con Pandas + Tweepy**"
   ]
  },
  {
   "cell_type": "markdown",
   "metadata": {
    "slideshow": {
     "slide_type": "slide"
    }
   },
   "source": [
    "## Importamos nuestras librerías"
   ]
  },
  {
   "cell_type": "markdown",
   "metadata": {
    "slideshow": {
     "slide_type": "fragment"
    }
   },
   "source": [
    "**Pandas** es una biblioteca de código abierto, que proporciona estructuras de datos de alto rendimiento y fácil de usar y herramientas de análisis de datos para el lenguaje de programación Python.\n",
    "\n",
    "**Tweepy** es una biblioteca de Python fácil de usar para acceder a la API de Twitter."
   ]
  },
  {
   "cell_type": "markdown",
   "metadata": {
    "slideshow": {
     "slide_type": "subslide"
    }
   },
   "source": [
    "**NumPy** es el paquete fundamental para la computación científica con Python. Contiene entre otras cosas:\n",
    "* Un potente objeto de matriz N-dimensional\n",
    "* Sofisticadas funciones de radiodifusión\n",
    "* Herramientas para integrar código C / C ++ y Fortran\n",
    "* Álgebra lineal útil, transformada de Fourier y capacidades de números aleatorios\n",
    "\n",
    "Además de sus usos científicos obvios, NumPy también puede ser utilizado como un eficiente contenedor multidimensional de datos genéricos. Se pueden definir tipos de datos arbitrarios. Esto permite a NumPy integrarse de forma transparente y rápida con una amplia variedad de bases de datos."
   ]
  },
  {
   "cell_type": "markdown",
   "metadata": {
    "slideshow": {
     "slide_type": "subslide"
    }
   },
   "source": [
    "**Matplotlib** es una biblioteca de trazado de Python 2D que produce figuras de calidad de publicación en una variedad de formatos impresos y entornos interactivos entre plataformas. Matplotlib se puede utilizar en scripts Python, en el shell Python e IPython, en el Jupyter Notebook, en servidores de aplicaciones web y para kits de herramientas de interfaz gráfica de usuario.\n",
    "\n",
    "**Seaborn** es una biblioteca de visualización de Python basada en matplotlib. Proporciona una interfaz de alto nivel para dibujar gráficos estadísticos atractivos."
   ]
  },
  {
   "cell_type": "code",
   "execution_count": 1,
   "metadata": {
    "ExecuteTime": {
     "end_time": "2017-09-02T03:21:57.428820Z",
     "start_time": "2017-09-02T03:21:56.145867Z"
    },
    "slideshow": {
     "slide_type": "slide"
    }
   },
   "outputs": [],
   "source": [
    "# General:\n",
    "import tweepy           # Para consumir la API de Twitter\n",
    "import pandas as pd     # Para manejo de datos\n",
    "import numpy as np      # Para operaciones numéricas\n",
    "\n",
    "# Para ploteo y visualización:\n",
    "import seaborn as sns\n",
    "from IPython.display import display\n",
    "import matplotlib.pyplot as plt\n",
    "%matplotlib inline"
   ]
  },
  {
   "cell_type": "markdown",
   "metadata": {
    "slideshow": {
     "slide_type": "slide"
    }
   },
   "source": [
    "## Creamos una App de Twitter"
   ]
  },
  {
   "cell_type": "markdown",
   "metadata": {
    "slideshow": {
     "slide_type": "fragment"
    }
   },
   "source": [
    "Para poder extraer twits para un posterior análisis, debemos acceder a nuestra cuenta de Twitter y crear una app. El sitio para poder hacer eso es [https://apps.twitter.com/](https://apps.twitter.com/).\n",
    "\n",
    "De esta app que creamos necesitaremos actualizar nuestro script `credentials.py` con la siguiente información:\n",
    "* Consumer Key (API Key)\n",
    "* Consumer Secret (API Secret)\n",
    "* Access Token\n",
    "* Access Token Secret\n",
    "\n",
    "Habiendo hehco esto, podemos proceder a consumir el API de Twitter. Para ello, creamos una función que nos permita autenticar nuestras llaves de acceso y consumo."
   ]
  },
  {
   "cell_type": "code",
   "execution_count": 2,
   "metadata": {
    "ExecuteTime": {
     "end_time": "2017-09-02T03:21:59.089623Z",
     "start_time": "2017-09-02T03:21:59.077624Z"
    }
   },
   "outputs": [],
   "source": [
    "# Importamos nuestras llaves de acceso:\n",
    "from credentials import *\n",
    "\n",
    "# Configuración del API:\n",
    "def twitter_config():\n",
    "    \"\"\"\n",
    "    Función de utilidad para configurar el consumo del \n",
    "    API de Twitter con las llaves proporcionadas.\n",
    "    \"\"\"\n",
    "    # Autenticar y acceder usando llaves:\n",
    "    auth = tweepy.OAuthHandler(CONSUMER_KEY, CONSUMER_SECRET)\n",
    "    auth.set_access_token(ACCESS_TOKEN, ACCESS_SECRET)\n",
    "\n",
    "    # Regresar acceso al API:\n",
    "    api = tweepy.API(auth)\n",
    "    return api"
   ]
  },
  {
   "cell_type": "markdown",
   "metadata": {},
   "source": [
    "## Extraemos tweets"
   ]
  },
  {
   "cell_type": "markdown",
   "metadata": {},
   "source": [
    "Ahora podemos crear un extractor de datos de Twitter para un usuario en específico.\n",
    "\n",
    "En mi caso, utilizaré a Donald Trump ([@realDonaldTrump](https://twitter.com/realDonaldTrump)) como usuario a minar.\n",
    "\n",
    "\n",
    "<!-- <iframe src='https://twitter.com/realDonaldTrump' width=700 height=350></iframe> -->"
   ]
  },
  {
   "cell_type": "code",
   "execution_count": 5,
   "metadata": {
    "ExecuteTime": {
     "end_time": "2017-09-02T03:22:03.421227Z",
     "start_time": "2017-09-02T03:22:02.131664Z"
    }
   },
   "outputs": [
    {
     "name": "stdout",
     "output_type": "stream",
     "text": [
      "Tweets obtenidos: 191.\n",
      "\n",
      "Los primeros 5 tweets:\n",
      "\n",
      "@juicelake Due to copyrights, sadly not. Thanks for the love though! There's a few YouTube bootlegs 😏\n",
      "\n",
      "RT @iamkory: Starting the rainy weekend w/ some Saturday morning white vinyl @barcelona vibes 🎶🎶🎶 https://t.co/MTgvouAh6W\n",
      "\n",
      "BASIC MAN on VINYL available now! W/digital download. Orders prior to 12/9 ship before Christmas. Happy Holidays! \n",
      "\n",
      "https://t.co/oPqOHRggEy\n",
      "\n",
      "Listen to our new version of \"Auld Lang Syne\" exclusively on @amazonmusic's #AcousticChristmas playlist! 🌲\n",
      "https://t.co/R4ZFYxH2Ol\n",
      "\n",
      "RT @anaid1319: @barcelona https://t.co/RavRoEwzF4\n",
      "\n"
     ]
    }
   ],
   "source": [
    "# Creamos un objeto extractor:\n",
    "extractor = twitter_config()\n",
    "\n",
    "# Creamos una lista de tweets:\n",
    "tweets = extractor.user_timeline(screen_name=\"barcelona\", count=200)\n",
    "print(\"Tweets obtenidos: {}.\\n\".format(len(tweets)))\n",
    "\n",
    "# Imprimimos los primeros 5 tweets:\n",
    "print(\"Los primeros 5 tweets:\\n\")\n",
    "for tweet in tweets[:5]:\n",
    "    print(tweet.text)\n",
    "    print()"
   ]
  },
  {
   "cell_type": "markdown",
   "metadata": {},
   "source": [
    "## Creamos un dataframe"
   ]
  },
  {
   "cell_type": "markdown",
   "metadata": {},
   "source": [
    "Ahora tenemos información inicial para construir un `DataFrame` de pandas, para poder manipular la información de manera más sencilla.\n",
    "\n",
    "La función `display` de Jupyter Notebook nos permite tener un ploteo más amigable, y el método `head` de un dataframe nos permite visualizar sólo los primeros 5 elementos (o el número que elementos que se le pasen como argumento)."
   ]
  },
  {
   "cell_type": "code",
   "execution_count": 6,
   "metadata": {
    "ExecuteTime": {
     "end_time": "2017-09-02T03:22:07.856260Z",
     "start_time": "2017-09-02T03:22:07.833635Z"
    }
   },
   "outputs": [
    {
     "data": {
      "text/html": [
       "<div>\n",
       "<style scoped>\n",
       "    .dataframe tbody tr th:only-of-type {\n",
       "        vertical-align: middle;\n",
       "    }\n",
       "\n",
       "    .dataframe tbody tr th {\n",
       "        vertical-align: top;\n",
       "    }\n",
       "\n",
       "    .dataframe thead th {\n",
       "        text-align: right;\n",
       "    }\n",
       "</style>\n",
       "<table border=\"1\" class=\"dataframe\">\n",
       "  <thead>\n",
       "    <tr style=\"text-align: right;\">\n",
       "      <th></th>\n",
       "      <th>Tweets</th>\n",
       "    </tr>\n",
       "  </thead>\n",
       "  <tbody>\n",
       "    <tr>\n",
       "      <td>0</td>\n",
       "      <td>@juicelake Due to copyrights, sadly not. Thank...</td>\n",
       "    </tr>\n",
       "    <tr>\n",
       "      <td>1</td>\n",
       "      <td>RT @iamkory: Starting the rainy weekend w/ som...</td>\n",
       "    </tr>\n",
       "    <tr>\n",
       "      <td>2</td>\n",
       "      <td>BASIC MAN on VINYL available now! W/digital do...</td>\n",
       "    </tr>\n",
       "    <tr>\n",
       "      <td>3</td>\n",
       "      <td>Listen to our new version of \"Auld Lang Syne\" ...</td>\n",
       "    </tr>\n",
       "    <tr>\n",
       "      <td>4</td>\n",
       "      <td>RT @anaid1319: @barcelona https://t.co/RavRoEwzF4</td>\n",
       "    </tr>\n",
       "    <tr>\n",
       "      <td>5</td>\n",
       "      <td>Our first music video from Basic Man premieres...</td>\n",
       "    </tr>\n",
       "    <tr>\n",
       "      <td>6</td>\n",
       "      <td>BARCELONA - IN THE NIGHT: https://t.co/ytvNGPO...</td>\n",
       "    </tr>\n",
       "    <tr>\n",
       "      <td>7</td>\n",
       "      <td>RT @Qbsrock: gonna leave u w/ In The Night by ...</td>\n",
       "    </tr>\n",
       "    <tr>\n",
       "      <td>8</td>\n",
       "      <td>@iamkory This Winter!</td>\n",
       "    </tr>\n",
       "    <tr>\n",
       "      <td>9</td>\n",
       "      <td>RT @dharma69: If I haven't mentioned it alread...</td>\n",
       "    </tr>\n",
       "  </tbody>\n",
       "</table>\n",
       "</div>"
      ],
      "text/plain": [
       "                                              Tweets\n",
       "0  @juicelake Due to copyrights, sadly not. Thank...\n",
       "1  RT @iamkory: Starting the rainy weekend w/ som...\n",
       "2  BASIC MAN on VINYL available now! W/digital do...\n",
       "3  Listen to our new version of \"Auld Lang Syne\" ...\n",
       "4  RT @anaid1319: @barcelona https://t.co/RavRoEwzF4\n",
       "5  Our first music video from Basic Man premieres...\n",
       "6  BARCELONA - IN THE NIGHT: https://t.co/ytvNGPO...\n",
       "7  RT @Qbsrock: gonna leave u w/ In The Night by ...\n",
       "8                              @iamkory This Winter!\n",
       "9  RT @dharma69: If I haven't mentioned it alread..."
      ]
     },
     "metadata": {},
     "output_type": "display_data"
    }
   ],
   "source": [
    "# Podemos crear un dataframe como sigue:\n",
    "datos = pd.DataFrame(data=[tweet.text for tweet in tweets], columns=['Tweets'])\n",
    "\n",
    "# Hacemos un display del dataframe:\n",
    "display(datos.head(10))"
   ]
  },
  {
   "cell_type": "markdown",
   "metadata": {},
   "source": [
    "Algo interesante es la cantidad de métodos internos que tiene la estructura de un tweet en Tweepy:"
   ]
  },
  {
   "cell_type": "code",
   "execution_count": 7,
   "metadata": {
    "ExecuteTime": {
     "end_time": "2017-09-02T03:22:34.896911Z",
     "start_time": "2017-09-02T03:22:34.891327Z"
    }
   },
   "outputs": [
    {
     "name": "stdout",
     "output_type": "stream",
     "text": [
      "['__class__', '__delattr__', '__dict__', '__dir__', '__doc__', '__eq__', '__format__', '__ge__', '__getattribute__', '__getstate__', '__gt__', '__hash__', '__init__', '__init_subclass__', '__le__', '__lt__', '__module__', '__ne__', '__new__', '__reduce__', '__reduce_ex__', '__repr__', '__setattr__', '__sizeof__', '__str__', '__subclasshook__', '__weakref__', '_api', '_json', 'author', 'contributors', 'coordinates', 'created_at', 'destroy', 'entities', 'favorite', 'favorite_count', 'favorited', 'geo', 'id', 'id_str', 'in_reply_to_screen_name', 'in_reply_to_status_id', 'in_reply_to_status_id_str', 'in_reply_to_user_id', 'in_reply_to_user_id_str', 'is_quote_status', 'lang', 'parse', 'parse_list', 'place', 'retweet', 'retweet_count', 'retweeted', 'retweets', 'source', 'source_url', 'text', 'truncated', 'user']\n"
     ]
    }
   ],
   "source": [
    "# Imprimimos métodos internos:\n",
    "print(dir(tweets[0]))"
   ]
  },
  {
   "cell_type": "markdown",
   "metadata": {},
   "source": [
    "De aquí resulta interesante que, si queremos obtener datos como la fecha de creación de un tweet o el dispositivo con el que fue creado, podemos acceder a esta información con métodos que aparecen en esta lista. Un ejemplo es el siguiente:"
   ]
  },
  {
   "cell_type": "code",
   "execution_count": 8,
   "metadata": {
    "ExecuteTime": {
     "end_time": "2017-09-02T03:22:37.416236Z",
     "start_time": "2017-09-02T03:22:37.399849Z"
    }
   },
   "outputs": [
    {
     "name": "stdout",
     "output_type": "stream",
     "text": [
      "838857044694192128\n",
      "2017-03-06 21:01:19\n",
      "Twitter for iPhone\n",
      "20\n",
      "3\n",
      "None\n",
      "None\n",
      "{'hashtags': [], 'symbols': [], 'user_mentions': [{'screen_name': 'juicelake', 'name': 'Justin Lake', 'id': 50818624, 'id_str': '50818624', 'indices': [0, 10]}], 'urls': []}\n"
     ]
    }
   ],
   "source": [
    "# Imprimimos info del primer tweet:\n",
    "print(tweets[0].id)\n",
    "print(tweets[0].created_at)\n",
    "print(tweets[0].source)\n",
    "print(tweets[0].favorite_count)\n",
    "print(tweets[0].retweet_count)\n",
    "print(tweets[0].geo)\n",
    "print(tweets[0].coordinates)\n",
    "print(tweets[0].entities)"
   ]
  },
  {
   "cell_type": "markdown",
   "metadata": {},
   "source": [
    "## Añadimos información relevante"
   ]
  },
  {
   "cell_type": "markdown",
   "metadata": {},
   "source": [
    "Esta información de cada tweet puede ser agregada a nuestro dataframe:"
   ]
  },
  {
   "cell_type": "code",
   "execution_count": 9,
   "metadata": {
    "ExecuteTime": {
     "end_time": "2017-09-02T03:22:40.934212Z",
     "start_time": "2017-09-02T03:22:40.915152Z"
    }
   },
   "outputs": [],
   "source": [
    "# Añadimos datos relevantes:\n",
    "datos['len'] = np.array([len(tweet.text) for tweet in tweets])\n",
    "datos['ID']  = np.array([tweet.id for tweet in tweets])\n",
    "datos['Creado'] = np.array([tweet.created_at for tweet in tweets])\n",
    "datos['Fuente'] = np.array([tweet.source for tweet in tweets])\n",
    "datos['Likes']  = np.array([tweet.favorite_count for tweet in tweets])\n",
    "datos['RTs']    = np.array([tweet.retweet_count for tweet in tweets])"
   ]
  },
  {
   "cell_type": "markdown",
   "metadata": {},
   "source": [
    "Reimprimendo parte de nuestro dataframe, vemos que la actualización se realiza:"
   ]
  },
  {
   "cell_type": "code",
   "execution_count": 10,
   "metadata": {
    "ExecuteTime": {
     "end_time": "2017-09-02T03:22:43.176975Z",
     "start_time": "2017-09-02T03:22:43.156025Z"
    }
   },
   "outputs": [
    {
     "data": {
      "text/html": [
       "<div>\n",
       "<style scoped>\n",
       "    .dataframe tbody tr th:only-of-type {\n",
       "        vertical-align: middle;\n",
       "    }\n",
       "\n",
       "    .dataframe tbody tr th {\n",
       "        vertical-align: top;\n",
       "    }\n",
       "\n",
       "    .dataframe thead th {\n",
       "        text-align: right;\n",
       "    }\n",
       "</style>\n",
       "<table border=\"1\" class=\"dataframe\">\n",
       "  <thead>\n",
       "    <tr style=\"text-align: right;\">\n",
       "      <th></th>\n",
       "      <th>Tweets</th>\n",
       "      <th>len</th>\n",
       "      <th>ID</th>\n",
       "      <th>Creado</th>\n",
       "      <th>Fuente</th>\n",
       "      <th>Likes</th>\n",
       "      <th>RTs</th>\n",
       "    </tr>\n",
       "  </thead>\n",
       "  <tbody>\n",
       "    <tr>\n",
       "      <td>0</td>\n",
       "      <td>@juicelake Due to copyrights, sadly not. Thank...</td>\n",
       "      <td>101</td>\n",
       "      <td>838857044694192128</td>\n",
       "      <td>2017-03-06 21:01:19</td>\n",
       "      <td>Twitter for iPhone</td>\n",
       "      <td>20</td>\n",
       "      <td>3</td>\n",
       "    </tr>\n",
       "    <tr>\n",
       "      <td>1</td>\n",
       "      <td>RT @iamkory: Starting the rainy weekend w/ som...</td>\n",
       "      <td>121</td>\n",
       "      <td>817903419557957633</td>\n",
       "      <td>2017-01-08 01:19:05</td>\n",
       "      <td>Twitter for iPhone</td>\n",
       "      <td>0</td>\n",
       "      <td>19</td>\n",
       "    </tr>\n",
       "    <tr>\n",
       "      <td>2</td>\n",
       "      <td>BASIC MAN on VINYL available now! W/digital do...</td>\n",
       "      <td>139</td>\n",
       "      <td>804816454860361728</td>\n",
       "      <td>2016-12-02 22:36:10</td>\n",
       "      <td>Twitter for iPhone</td>\n",
       "      <td>44</td>\n",
       "      <td>13</td>\n",
       "    </tr>\n",
       "    <tr>\n",
       "      <td>3</td>\n",
       "      <td>Listen to our new version of \"Auld Lang Syne\" ...</td>\n",
       "      <td>130</td>\n",
       "      <td>801193461265244160</td>\n",
       "      <td>2016-11-22 22:39:41</td>\n",
       "      <td>Twitter for iPhone</td>\n",
       "      <td>47</td>\n",
       "      <td>7</td>\n",
       "    </tr>\n",
       "    <tr>\n",
       "      <td>4</td>\n",
       "      <td>RT @anaid1319: @barcelona https://t.co/RavRoEwzF4</td>\n",
       "      <td>49</td>\n",
       "      <td>801040729078308864</td>\n",
       "      <td>2016-11-22 12:32:47</td>\n",
       "      <td>Twitter for iPhone</td>\n",
       "      <td>0</td>\n",
       "      <td>8</td>\n",
       "    </tr>\n",
       "    <tr>\n",
       "      <td>5</td>\n",
       "      <td>Our first music video from Basic Man premieres...</td>\n",
       "      <td>93</td>\n",
       "      <td>800852794114617344</td>\n",
       "      <td>2016-11-22 00:05:59</td>\n",
       "      <td>Twitter for iPhone</td>\n",
       "      <td>47</td>\n",
       "      <td>11</td>\n",
       "    </tr>\n",
       "    <tr>\n",
       "      <td>6</td>\n",
       "      <td>BARCELONA - IN THE NIGHT: https://t.co/ytvNGPO...</td>\n",
       "      <td>62</td>\n",
       "      <td>800831041497808896</td>\n",
       "      <td>2016-11-21 22:39:33</td>\n",
       "      <td>Google</td>\n",
       "      <td>33</td>\n",
       "      <td>9</td>\n",
       "    </tr>\n",
       "    <tr>\n",
       "      <td>7</td>\n",
       "      <td>RT @Qbsrock: gonna leave u w/ In The Night by ...</td>\n",
       "      <td>140</td>\n",
       "      <td>793238315008794624</td>\n",
       "      <td>2016-10-31 23:48:46</td>\n",
       "      <td>Twitter for iPhone</td>\n",
       "      <td>0</td>\n",
       "      <td>1</td>\n",
       "    </tr>\n",
       "    <tr>\n",
       "      <td>8</td>\n",
       "      <td>@iamkory This Winter!</td>\n",
       "      <td>21</td>\n",
       "      <td>790710700494639104</td>\n",
       "      <td>2016-10-25 00:24:56</td>\n",
       "      <td>Twitter for iPhone</td>\n",
       "      <td>6</td>\n",
       "      <td>0</td>\n",
       "    </tr>\n",
       "    <tr>\n",
       "      <td>9</td>\n",
       "      <td>RT @dharma69: If I haven't mentioned it alread...</td>\n",
       "      <td>140</td>\n",
       "      <td>789301209299423232</td>\n",
       "      <td>2016-10-21 03:04:07</td>\n",
       "      <td>Twitter for iPhone</td>\n",
       "      <td>0</td>\n",
       "      <td>3</td>\n",
       "    </tr>\n",
       "  </tbody>\n",
       "</table>\n",
       "</div>"
      ],
      "text/plain": [
       "                                              Tweets  len                  ID  \\\n",
       "0  @juicelake Due to copyrights, sadly not. Thank...  101  838857044694192128   \n",
       "1  RT @iamkory: Starting the rainy weekend w/ som...  121  817903419557957633   \n",
       "2  BASIC MAN on VINYL available now! W/digital do...  139  804816454860361728   \n",
       "3  Listen to our new version of \"Auld Lang Syne\" ...  130  801193461265244160   \n",
       "4  RT @anaid1319: @barcelona https://t.co/RavRoEwzF4   49  801040729078308864   \n",
       "5  Our first music video from Basic Man premieres...   93  800852794114617344   \n",
       "6  BARCELONA - IN THE NIGHT: https://t.co/ytvNGPO...   62  800831041497808896   \n",
       "7  RT @Qbsrock: gonna leave u w/ In The Night by ...  140  793238315008794624   \n",
       "8                              @iamkory This Winter!   21  790710700494639104   \n",
       "9  RT @dharma69: If I haven't mentioned it alread...  140  789301209299423232   \n",
       "\n",
       "               Creado              Fuente  Likes  RTs  \n",
       "0 2017-03-06 21:01:19  Twitter for iPhone     20    3  \n",
       "1 2017-01-08 01:19:05  Twitter for iPhone      0   19  \n",
       "2 2016-12-02 22:36:10  Twitter for iPhone     44   13  \n",
       "3 2016-11-22 22:39:41  Twitter for iPhone     47    7  \n",
       "4 2016-11-22 12:32:47  Twitter for iPhone      0    8  \n",
       "5 2016-11-22 00:05:59  Twitter for iPhone     47   11  \n",
       "6 2016-11-21 22:39:33              Google     33    9  \n",
       "7 2016-10-31 23:48:46  Twitter for iPhone      0    1  \n",
       "8 2016-10-25 00:24:56  Twitter for iPhone      6    0  \n",
       "9 2016-10-21 03:04:07  Twitter for iPhone      0    3  "
      ]
     },
     "metadata": {},
     "output_type": "display_data"
    }
   ],
   "source": [
    "# Hacemos un display del dataframe:\n",
    "display(datos.head(10))"
   ]
  },
  {
   "cell_type": "markdown",
   "metadata": {},
   "source": [
    "Muy bien, estamos listos para realizar un posterior análisis.\n",
    "\n",
    "¡Sube el nivel!"
   ]
  },
  {
   "cell_type": "markdown",
   "metadata": {},
   "source": [
    "# **Visualización y estadística básica**"
   ]
  },
  {
   "cell_type": "markdown",
   "metadata": {},
   "source": [
    "## Promedios y popularidad"
   ]
  },
  {
   "cell_type": "markdown",
   "metadata": {},
   "source": [
    "Primero nos interesa conocer estadísticos básicos sobre la información que extragimos, como la media de las longitudes de cada tweet, cuál fue el tweet con más favoritos, cuál fue el tweet más retweeteado, etc."
   ]
  },
  {
   "cell_type": "code",
   "execution_count": 11,
   "metadata": {
    "ExecuteTime": {
     "end_time": "2017-09-02T03:22:50.136159Z",
     "start_time": "2017-09-02T03:22:50.127691Z"
    }
   },
   "outputs": [
    {
     "name": "stdout",
     "output_type": "stream",
     "text": [
      "El promedio de caracteres en tweets: 90.75392670157068\n"
     ]
    }
   ],
   "source": [
    "# Extraemos el promedio:\n",
    "media = np.mean(datos['len'])\n",
    "\n",
    "print(\"El promedio de caracteres en tweets: {}\".format(media))"
   ]
  },
  {
   "cell_type": "code",
   "execution_count": 12,
   "metadata": {
    "ExecuteTime": {
     "end_time": "2017-09-02T03:22:52.201735Z",
     "start_time": "2017-09-02T03:22:52.173380Z"
    }
   },
   "outputs": [
    {
     "name": "stdout",
     "output_type": "stream",
     "text": [
      "El tweet con más likes es: \n",
      "OUR NEW ALBUM IS OUT TODAY! https://t.co/UOD7gzUAWY\n",
      "Número de likes: 252\n",
      "51 caracteres.\n",
      "\n",
      "El tweet con más retweets es: \n",
      "RT @prattprattpratt: @ChrisEvans We both know there's only one Captain America and his name is Russell Wilson. #SuperBowlBound #LOB #Repeat\n",
      "Número de retweets: 7083\n",
      "139 caracteres.\n",
      "\n"
     ]
    }
   ],
   "source": [
    "# Extraemos el tweet con más FAVs y con más RTs:\n",
    "\n",
    "fav_max = np.max(datos['Likes'])\n",
    "rt_max  = np.max(datos['RTs'])\n",
    "\n",
    "fav = datos[datos.Likes == fav_max].index[0]\n",
    "rt  = datos[datos.RTs == rt_max].index[0]\n",
    "\n",
    "# Max FAVs:\n",
    "print(\"El tweet con más likes es: \\n{}\".format(datos['Tweets'][fav]))\n",
    "print(\"Número de likes: {}\".format(fav_max))\n",
    "print(\"{} caracteres.\\n\".format(datos['len'][fav]))\n",
    "\n",
    "# Max RTs:\n",
    "print(\"El tweet con más retweets es: \\n{}\".format(datos['Tweets'][rt]))\n",
    "print(\"Número de retweets: {}\".format(rt_max))\n",
    "print(\"{} caracteres.\\n\".format(datos['len'][rt]))\n"
   ]
  },
  {
   "cell_type": "markdown",
   "metadata": {},
   "source": [
    "## Series de tiempo"
   ]
  },
  {
   "cell_type": "markdown",
   "metadata": {},
   "source": [
    "Dado que tenemos todo un vector de fechas de creación, podemos construir una serie de tiempo con respecto a longitudes de tweets, favoritos y retweets."
   ]
  },
  {
   "cell_type": "code",
   "execution_count": 13,
   "metadata": {
    "ExecuteTime": {
     "end_time": "2017-09-02T03:22:54.706966Z",
     "start_time": "2017-09-02T03:22:54.700391Z"
    }
   },
   "outputs": [],
   "source": [
    "# Creamos series de tiempo para datos:\n",
    "\n",
    "tlen = pd.Series(data=datos['len'].values, index=datos['Creado'])\n",
    "tfav = pd.Series(data=datos['Likes'].values, index=datos['Creado'])\n",
    "tret = pd.Series(data=datos['RTs'].values, index=datos['Creado'])"
   ]
  },
  {
   "cell_type": "markdown",
   "metadata": {},
   "source": [
    "Visualizamos las series de tiempo en plots:"
   ]
  },
  {
   "cell_type": "code",
   "execution_count": 14,
   "metadata": {
    "ExecuteTime": {
     "end_time": "2017-09-02T03:22:56.848418Z",
     "start_time": "2017-09-02T03:22:56.478088Z"
    }
   },
   "outputs": [
    {
     "data": {
      "image/png": "[encoded data removed]",
      "text/plain": [
       "<Figure size 1152x288 with 1 Axes>"
      ]
     },
     "metadata": {
      "needs_background": "light"
     },
     "output_type": "display_data"
    }
   ],
   "source": [
    "# Visualización de longitudes:\n",
    "tlen.plot(figsize=(16,4), color='r');"
   ]
  },
  {
   "cell_type": "code",
   "execution_count": 15,
   "metadata": {
    "ExecuteTime": {
     "end_time": "2017-09-02T03:22:58.905107Z",
     "start_time": "2017-09-02T03:22:58.482217Z"
    }
   },
   "outputs": [
    {
     "data": {
      "image/png": "[encoded data removed]",
      "text/plain": [
       "<Figure size 1152x288 with 1 Axes>"
      ]
     },
     "metadata": {
      "needs_background": "light"
     },
     "output_type": "display_data"
    }
   ],
   "source": [
    "# Visualización de likes vs retweets:\n",
    "tfav.plot(figsize=(16,4), label=\"Likes\", legend=True)\n",
    "tret.plot(figsize=(16,4), label=\"Retweets\", legend=True);"
   ]
  },
  {
   "cell_type": "markdown",
   "metadata": {},
   "source": [
    "## Pie charts de dispositivos"
   ]
  },
  {
   "cell_type": "markdown",
   "metadata": {},
   "source": [
    "Limpiamos las fuentes de creación de tweets para hacer un pie chart:"
   ]
  },
  {
   "cell_type": "code",
   "execution_count": 16,
   "metadata": {
    "ExecuteTime": {
     "end_time": "2017-09-02T03:23:04.730613Z",
     "start_time": "2017-09-02T03:23:04.718663Z"
    }
   },
   "outputs": [
    {
     "name": "stdout",
     "output_type": "stream",
     "text": [
      "Fuentes de creación de contenido:\n",
      "* Twitter for iPhone\n",
      "* Google\n",
      "* Twitter Web Client\n",
      "* Instagram\n",
      "* iOS\n"
     ]
    }
   ],
   "source": [
    "# Obtenemos posibles fuentes:\n",
    "fuentes = []\n",
    "for fuente in datos['Fuente']:\n",
    "    if fuente not in fuentes:\n",
    "        fuentes.append(fuente)\n",
    "\n",
    "# Imprimimos fuentes:\n",
    "print(\"Fuentes de creación de contenido:\")\n",
    "for fuente in fuentes:\n",
    "    print(\"* {}\".format(fuente))"
   ]
  },
  {
   "cell_type": "markdown",
   "metadata": {},
   "source": [
    "Contamos dispositivos y creamos un pie chart:"
   ]
  },
  {
   "cell_type": "code",
   "execution_count": 17,
   "metadata": {
    "ExecuteTime": {
     "end_time": "2017-09-02T03:23:09.325071Z",
     "start_time": "2017-09-02T03:23:09.108949Z"
    }
   },
   "outputs": [
    {
     "data": {
      "image/png": "[encoded data removed]",
      "text/plain": [
       "<Figure size 432x432 with 1 Axes>"
      ]
     },
     "metadata": {},
     "output_type": "display_data"
    }
   ],
   "source": [
    "# Creamos un vector mapeado a etiquetas:\n",
    "percent = np.zeros(len(fuentes))\n",
    "\n",
    "for fuente in datos['Fuente']:\n",
    "    for index in range(len(fuentes)):\n",
    "        if fuente == fuentes[index]:\n",
    "            percent[index] += 1\n",
    "            pass\n",
    "\n",
    "percent /= 100\n",
    "\n",
    "# Pie chart:\n",
    "pie_chart = pd.Series(percent, index=fuentes, name='Fuentes')\n",
    "pie_chart.plot.pie(fontsize=11, autopct='%.2f', figsize=(6, 6));"
   ]
  },
  {
   "cell_type": "markdown",
   "metadata": {},
   "source": [
    "Ya tenemos estadístigas y gráficas muy básicas sobre los datos obtenidos.\n",
    "\n",
    "¿Y si hacemos análisis de sentimientos?"
   ]
  },
  {
   "cell_type": "markdown",
   "metadata": {},
   "source": [
    "# **Análisis de sentimientos**"
   ]
  },
  {
   "cell_type": "markdown",
   "metadata": {},
   "source": [
    "## Importando textblob"
   ]
  },
  {
   "cell_type": "markdown",
   "metadata": {},
   "source": [
    "**TextBlob** es una biblioteca de Python (2 y 3) para procesar datos de texto. Proporciona una API sencilla para ahondar en las tareas comunes de procesamiento del lenguaje natural (PNL), como el etiquetado de parte del habla, la extracción de frase nominal, el análisis de sentimientos, la clasificación, la traducción y mucho más."
   ]
  },
  {
   "cell_type": "code",
   "execution_count": 19,
   "metadata": {
    "ExecuteTime": {
     "end_time": "2017-09-02T03:23:16.245473Z",
     "start_time": "2017-09-02T03:23:15.503957Z"
    }
   },
   "outputs": [],
   "source": [
    "from textblob import TextBlob\n",
    "import re\n",
    "\n",
    "def limpia_tweet(tweet):\n",
    "    '''\n",
    "    Función de utilidad para limpiar el texto de un tweet removiendo \n",
    "    enlaces y caracteres especiales usando regex.\n",
    "    '''\n",
    "    return ' '.join(re.sub(\"(@[A-Za-z0-9]+)|([^0-9A-Za-z \\t])|(\\w+:\\/\\/\\S+)\", \" \", tweet).split())\n",
    "\n",
    "def analiza_sentimiento(tweet):\n",
    "    '''\n",
    "    Función de utilidad para clasificar el sentimiento del tweet\n",
    "    proporcionado utilizando textblob\n",
    "    '''\n",
    "    analysis = TextBlob(limpia_tweet(tweet))\n",
    "    if analysis.sentiment.polarity > 0:\n",
    "        return 1\n",
    "    elif analysis.sentiment.polarity == 0:\n",
    "        return 0\n",
    "    else:\n",
    "        return -1"
   ]
  },
  {
   "cell_type": "markdown",
   "metadata": {},
   "source": [
    "## Analizando sentimientos"
   ]
  },
  {
   "cell_type": "markdown",
   "metadata": {},
   "source": [
    "Con estas funciones podemos realizar un análisis de sentimientos de tweets de nuestro dataframe."
   ]
  },
  {
   "cell_type": "code",
   "execution_count": 20,
   "metadata": {
    "ExecuteTime": {
     "end_time": "2017-09-02T03:23:40.349808Z",
     "start_time": "2017-09-02T03:23:40.216532Z"
    }
   },
   "outputs": [
    {
     "data": {
      "text/html": [
       "<div>\n",
       "<style scoped>\n",
       "    .dataframe tbody tr th:only-of-type {\n",
       "        vertical-align: middle;\n",
       "    }\n",
       "\n",
       "    .dataframe tbody tr th {\n",
       "        vertical-align: top;\n",
       "    }\n",
       "\n",
       "    .dataframe thead th {\n",
       "        text-align: right;\n",
       "    }\n",
       "</style>\n",
       "<table border=\"1\" class=\"dataframe\">\n",
       "  <thead>\n",
       "    <tr style=\"text-align: right;\">\n",
       "      <th></th>\n",
       "      <th>Tweets</th>\n",
       "      <th>len</th>\n",
       "      <th>ID</th>\n",
       "      <th>Creado</th>\n",
       "      <th>Fuente</th>\n",
       "      <th>Likes</th>\n",
       "      <th>RTs</th>\n",
       "      <th>AdS</th>\n",
       "    </tr>\n",
       "  </thead>\n",
       "  <tbody>\n",
       "    <tr>\n",
       "      <td>0</td>\n",
       "      <td>@juicelake Due to copyrights, sadly not. Thank...</td>\n",
       "      <td>101</td>\n",
       "      <td>838857044694192128</td>\n",
       "      <td>2017-03-06 21:01:19</td>\n",
       "      <td>Twitter for iPhone</td>\n",
       "      <td>20</td>\n",
       "      <td>3</td>\n",
       "      <td>1</td>\n",
       "    </tr>\n",
       "    <tr>\n",
       "      <td>1</td>\n",
       "      <td>RT @iamkory: Starting the rainy weekend w/ som...</td>\n",
       "      <td>121</td>\n",
       "      <td>817903419557957633</td>\n",
       "      <td>2017-01-08 01:19:05</td>\n",
       "      <td>Twitter for iPhone</td>\n",
       "      <td>0</td>\n",
       "      <td>19</td>\n",
       "      <td>0</td>\n",
       "    </tr>\n",
       "    <tr>\n",
       "      <td>2</td>\n",
       "      <td>BASIC MAN on VINYL available now! W/digital do...</td>\n",
       "      <td>139</td>\n",
       "      <td>804816454860361728</td>\n",
       "      <td>2016-12-02 22:36:10</td>\n",
       "      <td>Twitter for iPhone</td>\n",
       "      <td>44</td>\n",
       "      <td>13</td>\n",
       "      <td>1</td>\n",
       "    </tr>\n",
       "    <tr>\n",
       "      <td>3</td>\n",
       "      <td>Listen to our new version of \"Auld Lang Syne\" ...</td>\n",
       "      <td>130</td>\n",
       "      <td>801193461265244160</td>\n",
       "      <td>2016-11-22 22:39:41</td>\n",
       "      <td>Twitter for iPhone</td>\n",
       "      <td>47</td>\n",
       "      <td>7</td>\n",
       "      <td>1</td>\n",
       "    </tr>\n",
       "    <tr>\n",
       "      <td>4</td>\n",
       "      <td>RT @anaid1319: @barcelona https://t.co/RavRoEwzF4</td>\n",
       "      <td>49</td>\n",
       "      <td>801040729078308864</td>\n",
       "      <td>2016-11-22 12:32:47</td>\n",
       "      <td>Twitter for iPhone</td>\n",
       "      <td>0</td>\n",
       "      <td>8</td>\n",
       "      <td>0</td>\n",
       "    </tr>\n",
       "    <tr>\n",
       "      <td>5</td>\n",
       "      <td>Our first music video from Basic Man premieres...</td>\n",
       "      <td>93</td>\n",
       "      <td>800852794114617344</td>\n",
       "      <td>2016-11-22 00:05:59</td>\n",
       "      <td>Twitter for iPhone</td>\n",
       "      <td>47</td>\n",
       "      <td>11</td>\n",
       "      <td>1</td>\n",
       "    </tr>\n",
       "    <tr>\n",
       "      <td>6</td>\n",
       "      <td>BARCELONA - IN THE NIGHT: https://t.co/ytvNGPO...</td>\n",
       "      <td>62</td>\n",
       "      <td>800831041497808896</td>\n",
       "      <td>2016-11-21 22:39:33</td>\n",
       "      <td>Google</td>\n",
       "      <td>33</td>\n",
       "      <td>9</td>\n",
       "      <td>0</td>\n",
       "    </tr>\n",
       "    <tr>\n",
       "      <td>7</td>\n",
       "      <td>RT @Qbsrock: gonna leave u w/ In The Night by ...</td>\n",
       "      <td>140</td>\n",
       "      <td>793238315008794624</td>\n",
       "      <td>2016-10-31 23:48:46</td>\n",
       "      <td>Twitter for iPhone</td>\n",
       "      <td>0</td>\n",
       "      <td>1</td>\n",
       "      <td>1</td>\n",
       "    </tr>\n",
       "    <tr>\n",
       "      <td>8</td>\n",
       "      <td>@iamkory This Winter!</td>\n",
       "      <td>21</td>\n",
       "      <td>790710700494639104</td>\n",
       "      <td>2016-10-25 00:24:56</td>\n",
       "      <td>Twitter for iPhone</td>\n",
       "      <td>6</td>\n",
       "      <td>0</td>\n",
       "      <td>0</td>\n",
       "    </tr>\n",
       "    <tr>\n",
       "      <td>9</td>\n",
       "      <td>RT @dharma69: If I haven't mentioned it alread...</td>\n",
       "      <td>140</td>\n",
       "      <td>789301209299423232</td>\n",
       "      <td>2016-10-21 03:04:07</td>\n",
       "      <td>Twitter for iPhone</td>\n",
       "      <td>0</td>\n",
       "      <td>3</td>\n",
       "      <td>1</td>\n",
       "    </tr>\n",
       "  </tbody>\n",
       "</table>\n",
       "</div>"
      ],
      "text/plain": [
       "                                              Tweets  len                  ID  \\\n",
       "0  @juicelake Due to copyrights, sadly not. Thank...  101  838857044694192128   \n",
       "1  RT @iamkory: Starting the rainy weekend w/ som...  121  817903419557957633   \n",
       "2  BASIC MAN on VINYL available now! W/digital do...  139  804816454860361728   \n",
       "3  Listen to our new version of \"Auld Lang Syne\" ...  130  801193461265244160   \n",
       "4  RT @anaid1319: @barcelona https://t.co/RavRoEwzF4   49  801040729078308864   \n",
       "5  Our first music video from Basic Man premieres...   93  800852794114617344   \n",
       "6  BARCELONA - IN THE NIGHT: https://t.co/ytvNGPO...   62  800831041497808896   \n",
       "7  RT @Qbsrock: gonna leave u w/ In The Night by ...  140  793238315008794624   \n",
       "8                              @iamkory This Winter!   21  790710700494639104   \n",
       "9  RT @dharma69: If I haven't mentioned it alread...  140  789301209299423232   \n",
       "\n",
       "               Creado              Fuente  Likes  RTs  AdS  \n",
       "0 2017-03-06 21:01:19  Twitter for iPhone     20    3    1  \n",
       "1 2017-01-08 01:19:05  Twitter for iPhone      0   19    0  \n",
       "2 2016-12-02 22:36:10  Twitter for iPhone     44   13    1  \n",
       "3 2016-11-22 22:39:41  Twitter for iPhone     47    7    1  \n",
       "4 2016-11-22 12:32:47  Twitter for iPhone      0    8    0  \n",
       "5 2016-11-22 00:05:59  Twitter for iPhone     47   11    1  \n",
       "6 2016-11-21 22:39:33              Google     33    9    0  \n",
       "7 2016-10-31 23:48:46  Twitter for iPhone      0    1    1  \n",
       "8 2016-10-25 00:24:56  Twitter for iPhone      6    0    0  \n",
       "9 2016-10-21 03:04:07  Twitter for iPhone      0    3    1  "
      ]
     },
     "metadata": {},
     "output_type": "display_data"
    }
   ],
   "source": [
    "# Creamos columna de resultados del análisis\n",
    "datos['AdS'] = np.array([ analiza_sentimiento(tweet) for tweet in datos['Tweets'] ])\n",
    "\n",
    "# Hacemos display de los sentimientos:\n",
    "display(datos.head(10))"
   ]
  },
  {
   "cell_type": "markdown",
   "metadata": {},
   "source": [
    "## Analizando resultados"
   ]
  },
  {
   "cell_type": "markdown",
   "metadata": {},
   "source": [
    "Podemos construir una lista con todos los tweets clasificados, así como reportar porcentajes del análisis realizado."
   ]
  },
  {
   "cell_type": "code",
   "execution_count": 21,
   "metadata": {
    "ExecuteTime": {
     "end_time": "2017-09-02T03:23:45.403975Z",
     "start_time": "2017-09-02T03:23:45.386585Z"
    }
   },
   "outputs": [],
   "source": [
    "# Construimos listas con tweets clasificados:\n",
    "\n",
    "tweets_positivos = [ tweet for index, tweet in enumerate(datos['Tweets']) if datos['AdS'][index] > 0]\n",
    "tweets_neutros   = [ tweet for index, tweet in enumerate(datos['Tweets']) if datos['AdS'][index] == 0]\n",
    "tweets_negativos = [ tweet for index, tweet in enumerate(datos['Tweets']) if datos['AdS'][index] < 0]"
   ]
  },
  {
   "cell_type": "code",
   "execution_count": 22,
   "metadata": {
    "ExecuteTime": {
     "end_time": "2017-09-02T03:23:46.639845Z",
     "start_time": "2017-09-02T03:23:46.631584Z"
    }
   },
   "outputs": [
    {
     "name": "stdout",
     "output_type": "stream",
     "text": [
      "Porcentaje de tweets positivos: 43.455497382198956%\n",
      "Porcentaje de tweets neutros: 48.167539267015705%\n",
      "Porcentaje de tweets negativos: 8.37696335078534%\n"
     ]
    }
   ],
   "source": [
    "# Imprimimos porcentajes:\n",
    "\n",
    "print(\"Porcentaje de tweets positivos: {}%\".format(len(tweets_positivos)*100/len(datos['Tweets'])))\n",
    "print(\"Porcentaje de tweets neutros: {}%\".format(len(tweets_neutros)*100/len(datos['Tweets'])))\n",
    "print(\"Porcentaje de tweets negativos: {}%\".format(len(tweets_negativos)*100/len(datos['Tweets'])))"
   ]
  },
  {
   "cell_type": "markdown",
   "metadata": {
    "collapsed": true
   },
   "source": [
    "# Referencias"
   ]
  },
  {
   "cell_type": "markdown",
   "metadata": {},
   "source": [
    "1. [Documentación oficial de Tweepy](http://tweepy.readthedocs.io/en/v3.5.0/).\n",
    "2. [Documentación oficial de NumPy](https://docs.scipy.org/doc/numpy-dev/index.html).\n",
    "3. [Tutorial de NumPy](https://docs.scipy.org/doc/numpy-dev/user/quickstart.html).\n",
    "4. [Tutorial de Pandas](https://pandas.pydata.org/pandas-docs/stable/tutorials.html).\n",
    "5. [Documentación oficial de Pandas](https://pandas.pydata.org/pandas-docs/stable/index.html).\n",
    "6. [Documentación oficial de Matplotlib](http://matplotlib.org/index.html).\n",
    "7. [Tutorial de Pyplot](http://matplotlib.org/users/pyplot_tutorial.html).\n",
    "8. [Sitio oficial de Seaborn](https://seaborn.pydata.org/).\n",
    "9. [Documentación oficial de TextBlob](https://textblob.readthedocs.io/en/dev/).\n",
    "10. [Creación de clasificadores con TextBlob](https://textblob.readthedocs.io/en/dev/classifiers.html)."
   ]
  },
  {
   "cell_type": "code",
   "execution_count": null,
   "metadata": {},
   "outputs": [],
   "source": []
  }
 ],
 "metadata": {
  "anaconda-cloud": {},
  "kernelspec": {
   "display_name": "Python 3",
   "language": "python",
   "name": "python3"
  },
  "language_info": {
   "codemirror_mode": {
    "name": "ipython",
    "version": 3
   },
   "file_extension": ".py",
   "mimetype": "text/x-python",
   "name": "python",
   "nbconvert_exporter": "python",
   "pygments_lexer": "ipython3",
   "version": "3.7.4"
  },
  "toc": {
   "colors": {
    "hover_highlight": "#DAA520",
    "navigate_num": "#000000",
    "navigate_text": "#333333",
    "running_highlight": "#FF0000",
    "selected_highlight": "#FFD700",
    "sidebar_border": "#EEEEEE",
    "wrapper_background": "#FFFFFF"
   },
   "moveMenuLeft": true,
   "nav_menu": {
    "height": "266px",
    "width": "252px"
   },
   "navigate_menu": true,
   "number_sections": true,
   "sideBar": true,
   "threshold": 4,
   "toc_cell": true,
   "toc_section_display": "block",
   "toc_window_display": false,
   "widenNotebook": false
  }
 },
 "nbformat": 4,
 "nbformat_minor": 2
}
